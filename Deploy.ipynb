{
 "cells": [
  {
   "cell_type": "code",
   "execution_count": 40,
   "id": "fb0efdc2",
   "metadata": {},
   "outputs": [
    {
     "name": "stdout",
     "output_type": "stream",
     "text": [
      "Writing Flight_App.py\n"
     ]
    }
   ],
   "source": [
    "%%writefile Flight_App.py\n",
    "\n",
    "# Import Necessary Libraries\n",
    "import streamlit as st\n",
    "import pandas as pd\n",
    "import numpy as np\n",
    "import plotly.express as px\n",
    "\n",
    "\n",
    "st.set_page_config(layout=\"wide\", page_title = 'Simple DashBoard')\n",
    "# Read Data\n",
    "df = pd.read_csv('cleaned_df.csv', index_col= 0)\n",
    "new_df = df[['ELAPSED_TIME', 'AIR_TIME', 'DISTANCE', 'ARRIVAL_DELAY','AIR_SYSTEM_DELAY' ]]\n",
    "new_df.corr(numeric_only= True)\n",
    "\n",
    "\n",
    "st.title('Fight Air Lines Data Report')\n",
    "#new_df = df[['ELAPSED_TIME', 'AIR_TIME', 'DISTANCE', 'ARRIVAL_DELAY','AIR_SYSTEM_DELAY' ]]\n",
    "#new_df.corr(numeric_only= True)\n",
    "\n",
    "# Create title using html\n",
    "#html_title = \"\"\"<h1 style=\"color:white;text-align:center;\"> Air Flight Report </h1>\"\"\"\n",
    "#st.markdown(html_title,unsafe_allow_html=True)\n",
    "\n",
    "st.image('Air Port.jpg')\n",
    "\n",
    "# General Statistics\n",
    "st.plotly_chart(px.histogram(df, x= 'AIRLINE', color='AIRLINE', title= 'The Air Lines Movement According Air Line Company'))\n",
    "st.plotly_chart(px.pie(df, names= 'DAY_OF_WEEK', title='Percentage Distribution Air Lines Movement through the Day Week Number'))\n",
    "st.plotly_chart(px.pie(df, names= 'Day_Cat', title='The Percentage Distribution of the Flights of The Air Lines Movement Through Period of Month Days '))\n",
    "st.plotly_chart(px.pie(df, names= 'DEPARTURE_DELAY_Cat', title='The Percentage Distribution Flights of The Air Lines Movement Through Departue Time'))\n",
    "st.plotly_chart(px.pie(df, names= 'ELAPSED_TIME_Cat', title='The Elapsed Time of the Air Flight Movments by Hours'))\n",
    "st.plotly_chart(px.pie(df, names= 'AIR_TIME_Cat', color_discrete_sequence= ['red', 'blue', 'green', 'purple'], title='The Percentage Distribution Flights of The Air Lines Movement Through Departue Time in Hours'))\n",
    "st.plotly_chart(px.pie(df, names= 'DISTANCE_Cat', title='The Percentage Distribution Flights of The Air Lines Movement Through Distance in Km'))\n",
    "#st.plotly_chart()\n",
    "#st.plotly_chart()\n",
    "\n",
    "# Relation\n",
    "st.plotly_chart(px.imshow(new_df.corr(numeric_only= True), title='The Relation between Delay Time Factors'))\n",
    "\n",
    "\n",
    "# Columns\n",
    "col1, col2=st.columns(2)\n",
    "col1.write('### Cancelation of')\n",
    "col2.write(('### Diverted of'))\n",
    "# Canclled Flights\n",
    "\n",
    "filtered_df = df.loc[df['CANCELLATION_REASON'] !='NO']\n",
    "\n",
    "col1.plotly_chart(px.histogram(filtered_df, x= 'CANCELLATION_REASON', title= 'Number of Cancelled Trips of the Air Lines Movement According to the Reason', labels= {'CANCELLATION_REASON' : 'Reason of Cancelation'}))\n",
    "col1.plotly_chart(px.histogram(df, x=\"AIRLINE\", y=\"CANCELLED\", title='The Cancelled Fight Through The Air Lines Movement According to the Air Line Company'))\n",
    "col1.plotly_chart(px.histogram(df, x=\"DAY_OF_WEEK\", y=\"CANCELLED\", title='The Cancelled Fight Through The Air Lines Movement Through the Day of Week'))\n",
    "col1.plotly_chart(px.histogram(df, x=\"Day_Cat\", y=\"CANCELLED\", title='The Cancelled Fight Through The Air Lines MovementThroug the Period of Month of Days'))\n",
    "col1.plotly_chart(px.histogram(df, x=\"DISTANCE_Cat\", y=\"CANCELLED\", title='The Cancelled Fights of The Air Lines Movement Through Distamnce in Km'))\n",
    "col1.plotly_chart(px.histogram(df, x=\"DEPARTURE_DELAY_Cat\", y=\"CANCELLED\", title='The Cancelled Fights of The Air Lines Movement Through Departue Time'))\n",
    "#st.plotly_chart()\n",
    "#st.plotly_chart()\n",
    "\n",
    "\n",
    "# Diverted Flights\n",
    "col2.plotly_chart(px.histogram(df, x=\"AIRLINE\", y=\"DIVERTED\", title='The Diverted Fights Through The Air Lines Movement Accroding to the Air Line Company'))\n",
    "col2.plotly_chart(px.histogram(df, x=\"DAY_OF_WEEK\", y=\"DIVERTED\", title='The Diverted Fight Through The Air Lines Movement according the Day of Week'))\n",
    "col2.plotly_chart(px.histogram(df, x=\"AIRLINE\", y=\"DEPARTURE_DELAY\", color='AIRLINE', title='The Departure Delayes of the Flight Movement Accrdng to the Air Lines Company'))\n",
    "\n",
    "#st.plotly_chart()\n",
    "#st.plotly_chart()\n",
    "#st.plotly_chart()\n",
    "#st.plotly_chart()\n",
    "\n",
    "\n",
    "\n",
    "\n",
    "\n"
   ]
  },
  {
   "cell_type": "code",
   "execution_count": 41,
   "id": "f0466e44",
   "metadata": {},
   "outputs": [
    {
     "name": "stdout",
     "output_type": "stream",
     "text": [
      "^C\n"
     ]
    }
   ],
   "source": [
    "! streamlit run Flight_App.py"
   ]
  }
 ],
 "metadata": {
  "kernelspec": {
   "display_name": "base",
   "language": "python",
   "name": "python3"
  },
  "language_info": {
   "codemirror_mode": {
    "name": "ipython",
    "version": 3
   },
   "file_extension": ".py",
   "mimetype": "text/x-python",
   "name": "python",
   "nbconvert_exporter": "python",
   "pygments_lexer": "ipython3",
   "version": "3.12.7"
  }
 },
 "nbformat": 4,
 "nbformat_minor": 5
}
